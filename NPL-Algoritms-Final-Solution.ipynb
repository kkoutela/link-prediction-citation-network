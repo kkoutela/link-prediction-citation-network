{
 "cells": [
  {
   "cell_type": "markdown",
   "id": "196fa89b",
   "metadata": {},
   "source": [
    "## Insert Packages"
   ]
  },
  {
   "cell_type": "code",
   "execution_count": 1,
   "id": "7ecee356",
   "metadata": {},
   "outputs": [],
   "source": [
    "#handling\n",
    "import csv\n",
    "import numpy as np\n",
    "from numpy import genfromtxt\n",
    "import pandas as pd\n",
    "from time import time\n",
    "\n",
    "#Models\n",
    "from sklearn import svm\n",
    "from sklearn.neighbors import KNeighborsClassifier\n",
    "from sklearn.tree import DecisionTreeClassifier\n",
    "from sklearn.ensemble import RandomForestClassifier\n",
    "from sklearn.ensemble import AdaBoostClassifier\n",
    "from sklearn.ensemble import BaggingClassifier\n",
    "from sklearn.ensemble import GradientBoostingClassifier\n",
    "from sklearn.naive_bayes import GaussianNB\n",
    "from sklearn.discriminant_analysis import LinearDiscriminantAnalysis\n",
    "from sklearn.neural_network import MLPClassifier\n",
    "\n",
    "#Scores\n",
    "from sklearn.metrics import f1_score, accuracy_score, log_loss\n",
    "\n",
    "#FS  !pip install mlxtend\n",
    "from mlxtend.feature_selection import SequentialFeatureSelector as sfs\n",
    "from mlxtend.plotting import plot_sequential_feature_selection as plot_sfs\n",
    "import matplotlib.pyplot as plt\n",
    "\n",
    "#Graphs\n",
    "import seaborn as sns\n",
    "import matplotlib.pyplot as plt"
   ]
  },
  {
   "cell_type": "markdown",
   "id": "173fa99a",
   "metadata": {},
   "source": [
    "## Insert Data Extracted on previous process"
   ]
  },
  {
   "cell_type": "code",
   "execution_count": 2,
   "id": "370bd9b0",
   "metadata": {},
   "outputs": [],
   "source": [
    "#Training Data\n",
    "training_set = genfromtxt('training_features_scaled.csv', delimiter=',') #,skip_header=1\n",
    "labels = genfromtxt('labels.csv', delimiter=',') #labels"
   ]
  },
  {
   "cell_type": "code",
   "execution_count": 3,
   "id": "c7db3d9a",
   "metadata": {},
   "outputs": [],
   "source": [
    "#Testing Data\n",
    "testing_set = genfromtxt('testing_features_scaled.csv', delimiter=',')"
   ]
  },
  {
   "cell_type": "code",
   "execution_count": 4,
   "id": "fb06ab8b",
   "metadata": {},
   "outputs": [],
   "source": [
    "#Solutions to compare\n",
    "with open(\"solutions.csv\", \"r\") as s:\n",
    "    reader = csv.reader(s)    \n",
    "    solutions  = list(reader)\n",
    "sol = [element[1] for element in solutions] \n",
    "sol = sol [1:len(sol)] \n",
    "for i in range(0, len(sol)):\n",
    "    sol[i] = int(sol[i])"
   ]
  },
  {
   "cell_type": "markdown",
   "id": "89031dda",
   "metadata": {},
   "source": [
    "## Pearson correlation coefficient"
   ]
  },
  {
   "cell_type": "markdown",
   "id": "9844a6fc",
   "metadata": {},
   "source": [
    "Define the Pearson correlation coefficient between certain variables to see if the result of feature selection make sense ( certain features are being eliminated due to their correlation with the chosen ones)."
   ]
  },
  {
   "cell_type": "code",
   "execution_count": 5,
   "id": "b6ca576b",
   "metadata": {},
   "outputs": [],
   "source": [
    "df=pd.DataFrame(training_set,columns=['overlap_title','temp_diff','comm_auth', 'overlap_journ','overlap_abstr','cos_sim_abstr', 'cos_sim_title', 'cos_sim_author', 'cos_sim_journal','jac_sim', 'pref_attac', 'adam_index','com_neigh', 'same_cluster','commun_ra'])"
   ]
  },
  {
   "cell_type": "code",
   "execution_count": 6,
   "id": "7bd10108",
   "metadata": {},
   "outputs": [
    {
     "name": "stdout",
     "output_type": "stream",
     "text": [
      "The correlation between overlap_journ and cos_sim_journal is : 0.6961093120203985\n",
      "\n",
      "The correlation between cos_sim_abstr and overlap_abstr is : 0.657352002806121\n",
      "\n",
      "The correlation between cos_sim_author and comm_auth is : 0.6591472522652183\n",
      "\n",
      "The correlation between adam_index and jac_sim is : 0.5917660360358773\n",
      "\n",
      "The correlation between adam_index and com_neigh is : 0.9916100524582747\n"
     ]
    }
   ],
   "source": [
    "print('The correlation between overlap_journ and cos_sim_journal is :',(df['overlap_journ']).corr(df['cos_sim_journal']))\n",
    "print('\\nThe correlation between cos_sim_abstr and overlap_abstr is :',(df['cos_sim_abstr']).corr(df['overlap_abstr']))\n",
    "print('\\nThe correlation between cos_sim_author and comm_auth is :',(df['cos_sim_author']).corr(df['comm_auth']))\n",
    "print('\\nThe correlation between adam_index and jac_sim is :',(df['adam_index']).corr(df['jac_sim']))\n",
    "print('\\nThe correlation between adam_index and com_neigh is :',(df['adam_index']).corr(df['com_neigh']))"
   ]
  },
  {
   "cell_type": "markdown",
   "id": "a62ca39d",
   "metadata": {},
   "source": [
    "We expect one feature of each pair to be excluded. If the whole pair is excluded then that happens due to poor performance."
   ]
  },
  {
   "cell_type": "markdown",
   "id": "d1a0c6dc",
   "metadata": {},
   "source": [
    "## Feature Selection"
   ]
  },
  {
   "cell_type": "code",
   "execution_count": 7,
   "id": "92ba2ac6",
   "metadata": {},
   "outputs": [],
   "source": [
    "# train data into a dataframe\n",
    "df=pd.DataFrame(training_set,columns=['overlap_title','temp_diff','comm_auth', 'overlap_journ','overlap_abstr','cos_sim_abstr', 'cos_sim_title', 'cos_sim_author', 'cos_sim_journal','jac_sim', 'pref_attac', 'adam_index','com_neigh', 'same_cluster','commun_ra'])"
   ]
  },
  {
   "cell_type": "code",
   "execution_count": 8,
   "id": "4cb2f12c",
   "metadata": {},
   "outputs": [],
   "source": [
    "def fs(number_f,kind):\n",
    "    if kind==True:\n",
    "                \n",
    "    #Sequential Forward Selection \n",
    "        SFS = sfs(svm.LinearSVC(),\n",
    "                  k_features=number_f,  # Number of features to be selected\n",
    "                  forward=True,   \n",
    "                  floating=False,      # Do not exclude features from the previous iteration\n",
    "                  scoring='f1',\n",
    "                  cv = None)             # None, to use the default 5-fold cross validation\n",
    "\n",
    "        # Place all the feature names into a list\n",
    "        feature_names=['overlap_title','temp_diff','comm_auth', 'overlap_journ','overlap_abstr','cos_sim_abstr', 'cos_sim_title', 'cos_sim_author', 'cos_sim_journal','jac_sim', 'pref_attac', 'adam_index','com_neigh', 'same_cluster','commun_ra']    \n",
    "        # Apply the fit\n",
    "        SFS.fit(training_set, labels,custom_feature_names=feature_names) \n",
    "        \n",
    "        \n",
    "        #Plot results\n",
    "        fig = plot_sfs(SFS.get_metric_dict(), kind='std_err')  # standard errors of the cross-validation scores\n",
    "        plt.ylim([0.8, 1])\n",
    "        plt.title('Sequential Forward Selection (with standard errors)')\n",
    "        plt.grid()\n",
    "        plt.show()\n",
    "        \n",
    "    else:\n",
    "        \n",
    "        #Sequential Backward Selection \n",
    "        SFS = sfs(svm.LinearSVC(),\n",
    "                  k_features=number_f,    # Number of features to be selected\n",
    "                  forward=False,   \n",
    "                  floating=False,        # Do not include features from the previous iteration\n",
    "                  scoring='f1',\n",
    "                  cv = None)   # None, to use the default 5-fold cross validation,\n",
    "\n",
    "        # Place all the feature names into a list\n",
    "        feature_names=['overlap_title','temp_diff','comm_auth', 'overlap_journ','overlap_abstr','cos_sim_abstr', 'cos_sim_title', 'cos_sim_author', 'cos_sim_journal','jac_sim', 'pref_attac', 'adam_index','com_neigh', 'same_cluster','commun_ra']    \n",
    "        # Apply the fit\n",
    "        SFS.fit(training_set, labels,custom_feature_names=feature_names) \n",
    "\n",
    "        \n",
    "        #Plot results\n",
    "        fig = plot_sfs(SFS.get_metric_dict(), kind='std_err')  # standard errors of the cross-validation scores\n",
    "        plt.ylim([0.8, 1])\n",
    "        plt.title('Sequential Backward Selection (with standard errors)')\n",
    "        plt.grid()\n",
    "        plt.show()\n",
    "\n",
    "        \n",
    "    #Create a dataframe for the SFS results \n",
    "    df_SFS_results = pd.DataFrame(SFS.subsets_).transpose()\n",
    "    print('\\n',df_SFS_results)\n",
    "    \n",
    "\n",
    "    print('\\nIndex of features : ',SFS.k_feature_idx_)  #index of feature selected features      \n",
    "    print('\\n',SFS.k_score_)             # CV Score\n",
    "\n",
    "    return(SFS.k_feature_names_)     #name of features selected  "
   ]
  },
  {
   "cell_type": "markdown",
   "id": "3deee244",
   "metadata": {},
   "source": [
    "In this phase forward and backward feature selection were executed (with the sampling dataset) and the results pointed that the optimal number of features were 6. Due to run time, the whole dataset is going to be tested on backward feature selection for 6 features."
   ]
  },
  {
   "cell_type": "code",
   "execution_count": 9,
   "id": "69d8b240",
   "metadata": {},
   "outputs": [],
   "source": [
    "#%%time\n",
    "#fs(1,False)  # Backward Feature Selection"
   ]
  },
  {
   "cell_type": "code",
   "execution_count": 10,
   "id": "883cc0e4",
   "metadata": {},
   "outputs": [],
   "source": [
    "# %%time\n",
    "# fs(15,True)  # Forward Feature Selection"
   ]
  },
  {
   "cell_type": "markdown",
   "id": "6575d274",
   "metadata": {},
   "source": [
    "Optimal number of features is 6. Run backward feature selection to view them. "
   ]
  },
  {
   "cell_type": "code",
   "execution_count": 11,
   "id": "2652c0b0",
   "metadata": {},
   "outputs": [
    {
     "name": "stderr",
     "output_type": "stream",
     "text": [
      "C:\\Users\\User\\anaconda3\\lib\\site-packages\\sklearn\\svm\\_base.py:985: ConvergenceWarning: Liblinear failed to converge, increase the number of iterations.\n",
      "  warnings.warn(\"Liblinear failed to converge, increase \"\n",
      "C:\\Users\\User\\anaconda3\\lib\\site-packages\\sklearn\\svm\\_base.py:985: ConvergenceWarning: Liblinear failed to converge, increase the number of iterations.\n",
      "  warnings.warn(\"Liblinear failed to converge, increase \"\n",
      "C:\\Users\\User\\anaconda3\\lib\\site-packages\\sklearn\\svm\\_base.py:985: ConvergenceWarning: Liblinear failed to converge, increase the number of iterations.\n",
      "  warnings.warn(\"Liblinear failed to converge, increase \"\n",
      "C:\\Users\\User\\anaconda3\\lib\\site-packages\\sklearn\\svm\\_base.py:985: ConvergenceWarning: Liblinear failed to converge, increase the number of iterations.\n",
      "  warnings.warn(\"Liblinear failed to converge, increase \"\n",
      "C:\\Users\\User\\anaconda3\\lib\\site-packages\\sklearn\\svm\\_base.py:985: ConvergenceWarning: Liblinear failed to converge, increase the number of iterations.\n",
      "  warnings.warn(\"Liblinear failed to converge, increase \"\n",
      "C:\\Users\\User\\anaconda3\\lib\\site-packages\\sklearn\\svm\\_base.py:985: ConvergenceWarning: Liblinear failed to converge, increase the number of iterations.\n",
      "  warnings.warn(\"Liblinear failed to converge, increase \"\n",
      "C:\\Users\\User\\anaconda3\\lib\\site-packages\\sklearn\\svm\\_base.py:985: ConvergenceWarning: Liblinear failed to converge, increase the number of iterations.\n",
      "  warnings.warn(\"Liblinear failed to converge, increase \"\n",
      "C:\\Users\\User\\anaconda3\\lib\\site-packages\\sklearn\\svm\\_base.py:985: ConvergenceWarning: Liblinear failed to converge, increase the number of iterations.\n",
      "  warnings.warn(\"Liblinear failed to converge, increase \"\n",
      "C:\\Users\\User\\anaconda3\\lib\\site-packages\\sklearn\\svm\\_base.py:985: ConvergenceWarning: Liblinear failed to converge, increase the number of iterations.\n",
      "  warnings.warn(\"Liblinear failed to converge, increase \"\n",
      "C:\\Users\\User\\anaconda3\\lib\\site-packages\\sklearn\\svm\\_base.py:985: ConvergenceWarning: Liblinear failed to converge, increase the number of iterations.\n",
      "  warnings.warn(\"Liblinear failed to converge, increase \"\n",
      "C:\\Users\\User\\anaconda3\\lib\\site-packages\\sklearn\\svm\\_base.py:985: ConvergenceWarning: Liblinear failed to converge, increase the number of iterations.\n",
      "  warnings.warn(\"Liblinear failed to converge, increase \"\n",
      "C:\\Users\\User\\anaconda3\\lib\\site-packages\\sklearn\\svm\\_base.py:985: ConvergenceWarning: Liblinear failed to converge, increase the number of iterations.\n",
      "  warnings.warn(\"Liblinear failed to converge, increase \"\n",
      "C:\\Users\\User\\anaconda3\\lib\\site-packages\\sklearn\\svm\\_base.py:985: ConvergenceWarning: Liblinear failed to converge, increase the number of iterations.\n",
      "  warnings.warn(\"Liblinear failed to converge, increase \"\n",
      "C:\\Users\\User\\anaconda3\\lib\\site-packages\\sklearn\\svm\\_base.py:985: ConvergenceWarning: Liblinear failed to converge, increase the number of iterations.\n",
      "  warnings.warn(\"Liblinear failed to converge, increase \"\n",
      "C:\\Users\\User\\anaconda3\\lib\\site-packages\\sklearn\\svm\\_base.py:985: ConvergenceWarning: Liblinear failed to converge, increase the number of iterations.\n",
      "  warnings.warn(\"Liblinear failed to converge, increase \"\n",
      "C:\\Users\\User\\anaconda3\\lib\\site-packages\\sklearn\\svm\\_base.py:985: ConvergenceWarning: Liblinear failed to converge, increase the number of iterations.\n",
      "  warnings.warn(\"Liblinear failed to converge, increase \"\n",
      "C:\\Users\\User\\anaconda3\\lib\\site-packages\\sklearn\\svm\\_base.py:985: ConvergenceWarning: Liblinear failed to converge, increase the number of iterations.\n",
      "  warnings.warn(\"Liblinear failed to converge, increase \"\n",
      "C:\\Users\\User\\anaconda3\\lib\\site-packages\\sklearn\\svm\\_base.py:985: ConvergenceWarning: Liblinear failed to converge, increase the number of iterations.\n",
      "  warnings.warn(\"Liblinear failed to converge, increase \"\n",
      "C:\\Users\\User\\anaconda3\\lib\\site-packages\\sklearn\\svm\\_base.py:985: ConvergenceWarning: Liblinear failed to converge, increase the number of iterations.\n",
      "  warnings.warn(\"Liblinear failed to converge, increase \"\n",
      "C:\\Users\\User\\anaconda3\\lib\\site-packages\\sklearn\\svm\\_base.py:985: ConvergenceWarning: Liblinear failed to converge, increase the number of iterations.\n",
      "  warnings.warn(\"Liblinear failed to converge, increase \"\n",
      "C:\\Users\\User\\anaconda3\\lib\\site-packages\\sklearn\\svm\\_base.py:985: ConvergenceWarning: Liblinear failed to converge, increase the number of iterations.\n",
      "  warnings.warn(\"Liblinear failed to converge, increase \"\n",
      "C:\\Users\\User\\anaconda3\\lib\\site-packages\\sklearn\\svm\\_base.py:985: ConvergenceWarning: Liblinear failed to converge, increase the number of iterations.\n",
      "  warnings.warn(\"Liblinear failed to converge, increase \"\n",
      "C:\\Users\\User\\anaconda3\\lib\\site-packages\\sklearn\\svm\\_base.py:985: ConvergenceWarning: Liblinear failed to converge, increase the number of iterations.\n",
      "  warnings.warn(\"Liblinear failed to converge, increase \"\n",
      "C:\\Users\\User\\anaconda3\\lib\\site-packages\\sklearn\\svm\\_base.py:985: ConvergenceWarning: Liblinear failed to converge, increase the number of iterations.\n",
      "  warnings.warn(\"Liblinear failed to converge, increase \"\n",
      "C:\\Users\\User\\anaconda3\\lib\\site-packages\\sklearn\\svm\\_base.py:985: ConvergenceWarning: Liblinear failed to converge, increase the number of iterations.\n",
      "  warnings.warn(\"Liblinear failed to converge, increase \"\n",
      "C:\\Users\\User\\anaconda3\\lib\\site-packages\\sklearn\\svm\\_base.py:985: ConvergenceWarning: Liblinear failed to converge, increase the number of iterations.\n",
      "  warnings.warn(\"Liblinear failed to converge, increase \"\n",
      "C:\\Users\\User\\anaconda3\\lib\\site-packages\\sklearn\\svm\\_base.py:985: ConvergenceWarning: Liblinear failed to converge, increase the number of iterations.\n",
      "  warnings.warn(\"Liblinear failed to converge, increase \"\n",
      "C:\\Users\\User\\anaconda3\\lib\\site-packages\\sklearn\\svm\\_base.py:985: ConvergenceWarning: Liblinear failed to converge, increase the number of iterations.\n",
      "  warnings.warn(\"Liblinear failed to converge, increase \"\n",
      "C:\\Users\\User\\anaconda3\\lib\\site-packages\\sklearn\\svm\\_base.py:985: ConvergenceWarning: Liblinear failed to converge, increase the number of iterations.\n",
      "  warnings.warn(\"Liblinear failed to converge, increase \"\n",
      "C:\\Users\\User\\anaconda3\\lib\\site-packages\\sklearn\\svm\\_base.py:985: ConvergenceWarning: Liblinear failed to converge, increase the number of iterations.\n",
      "  warnings.warn(\"Liblinear failed to converge, increase \"\n",
      "C:\\Users\\User\\anaconda3\\lib\\site-packages\\sklearn\\svm\\_base.py:985: ConvergenceWarning: Liblinear failed to converge, increase the number of iterations.\n",
      "  warnings.warn(\"Liblinear failed to converge, increase \"\n",
      "C:\\Users\\User\\anaconda3\\lib\\site-packages\\sklearn\\svm\\_base.py:985: ConvergenceWarning: Liblinear failed to converge, increase the number of iterations.\n",
      "  warnings.warn(\"Liblinear failed to converge, increase \"\n",
      "C:\\Users\\User\\anaconda3\\lib\\site-packages\\sklearn\\svm\\_base.py:985: ConvergenceWarning: Liblinear failed to converge, increase the number of iterations.\n",
      "  warnings.warn(\"Liblinear failed to converge, increase \"\n",
      "C:\\Users\\User\\anaconda3\\lib\\site-packages\\sklearn\\svm\\_base.py:985: ConvergenceWarning: Liblinear failed to converge, increase the number of iterations.\n",
      "  warnings.warn(\"Liblinear failed to converge, increase \"\n",
      "C:\\Users\\User\\anaconda3\\lib\\site-packages\\sklearn\\svm\\_base.py:985: ConvergenceWarning: Liblinear failed to converge, increase the number of iterations.\n",
      "  warnings.warn(\"Liblinear failed to converge, increase \"\n",
      "C:\\Users\\User\\anaconda3\\lib\\site-packages\\sklearn\\svm\\_base.py:985: ConvergenceWarning: Liblinear failed to converge, increase the number of iterations.\n",
      "  warnings.warn(\"Liblinear failed to converge, increase \"\n",
      "C:\\Users\\User\\anaconda3\\lib\\site-packages\\sklearn\\svm\\_base.py:985: ConvergenceWarning: Liblinear failed to converge, increase the number of iterations.\n",
      "  warnings.warn(\"Liblinear failed to converge, increase \"\n",
      "C:\\Users\\User\\anaconda3\\lib\\site-packages\\sklearn\\svm\\_base.py:985: ConvergenceWarning: Liblinear failed to converge, increase the number of iterations.\n",
      "  warnings.warn(\"Liblinear failed to converge, increase \"\n",
      "C:\\Users\\User\\anaconda3\\lib\\site-packages\\sklearn\\svm\\_base.py:985: ConvergenceWarning: Liblinear failed to converge, increase the number of iterations.\n",
      "  warnings.warn(\"Liblinear failed to converge, increase \"\n"
     ]
    },
    {
     "name": "stderr",
     "output_type": "stream",
     "text": [
      "C:\\Users\\User\\anaconda3\\lib\\site-packages\\sklearn\\svm\\_base.py:985: ConvergenceWarning: Liblinear failed to converge, increase the number of iterations.\n",
      "  warnings.warn(\"Liblinear failed to converge, increase \"\n",
      "C:\\Users\\User\\anaconda3\\lib\\site-packages\\sklearn\\svm\\_base.py:985: ConvergenceWarning: Liblinear failed to converge, increase the number of iterations.\n",
      "  warnings.warn(\"Liblinear failed to converge, increase \"\n",
      "C:\\Users\\User\\anaconda3\\lib\\site-packages\\sklearn\\svm\\_base.py:985: ConvergenceWarning: Liblinear failed to converge, increase the number of iterations.\n",
      "  warnings.warn(\"Liblinear failed to converge, increase \"\n",
      "C:\\Users\\User\\anaconda3\\lib\\site-packages\\sklearn\\svm\\_base.py:985: ConvergenceWarning: Liblinear failed to converge, increase the number of iterations.\n",
      "  warnings.warn(\"Liblinear failed to converge, increase \"\n",
      "C:\\Users\\User\\anaconda3\\lib\\site-packages\\sklearn\\svm\\_base.py:985: ConvergenceWarning: Liblinear failed to converge, increase the number of iterations.\n",
      "  warnings.warn(\"Liblinear failed to converge, increase \"\n",
      "C:\\Users\\User\\anaconda3\\lib\\site-packages\\sklearn\\svm\\_base.py:985: ConvergenceWarning: Liblinear failed to converge, increase the number of iterations.\n",
      "  warnings.warn(\"Liblinear failed to converge, increase \"\n",
      "C:\\Users\\User\\anaconda3\\lib\\site-packages\\sklearn\\svm\\_base.py:985: ConvergenceWarning: Liblinear failed to converge, increase the number of iterations.\n",
      "  warnings.warn(\"Liblinear failed to converge, increase \"\n",
      "C:\\Users\\User\\anaconda3\\lib\\site-packages\\sklearn\\svm\\_base.py:985: ConvergenceWarning: Liblinear failed to converge, increase the number of iterations.\n",
      "  warnings.warn(\"Liblinear failed to converge, increase \"\n",
      "C:\\Users\\User\\anaconda3\\lib\\site-packages\\sklearn\\svm\\_base.py:985: ConvergenceWarning: Liblinear failed to converge, increase the number of iterations.\n",
      "  warnings.warn(\"Liblinear failed to converge, increase \"\n",
      "C:\\Users\\User\\anaconda3\\lib\\site-packages\\sklearn\\svm\\_base.py:985: ConvergenceWarning: Liblinear failed to converge, increase the number of iterations.\n",
      "  warnings.warn(\"Liblinear failed to converge, increase \"\n",
      "C:\\Users\\User\\anaconda3\\lib\\site-packages\\sklearn\\svm\\_base.py:985: ConvergenceWarning: Liblinear failed to converge, increase the number of iterations.\n",
      "  warnings.warn(\"Liblinear failed to converge, increase \"\n",
      "C:\\Users\\User\\anaconda3\\lib\\site-packages\\sklearn\\svm\\_base.py:985: ConvergenceWarning: Liblinear failed to converge, increase the number of iterations.\n",
      "  warnings.warn(\"Liblinear failed to converge, increase \"\n",
      "C:\\Users\\User\\anaconda3\\lib\\site-packages\\sklearn\\svm\\_base.py:985: ConvergenceWarning: Liblinear failed to converge, increase the number of iterations.\n",
      "  warnings.warn(\"Liblinear failed to converge, increase \"\n",
      "C:\\Users\\User\\anaconda3\\lib\\site-packages\\sklearn\\svm\\_base.py:985: ConvergenceWarning: Liblinear failed to converge, increase the number of iterations.\n",
      "  warnings.warn(\"Liblinear failed to converge, increase \"\n",
      "C:\\Users\\User\\anaconda3\\lib\\site-packages\\sklearn\\svm\\_base.py:985: ConvergenceWarning: Liblinear failed to converge, increase the number of iterations.\n",
      "  warnings.warn(\"Liblinear failed to converge, increase \"\n",
      "C:\\Users\\User\\anaconda3\\lib\\site-packages\\sklearn\\svm\\_base.py:985: ConvergenceWarning: Liblinear failed to converge, increase the number of iterations.\n",
      "  warnings.warn(\"Liblinear failed to converge, increase \"\n",
      "C:\\Users\\User\\anaconda3\\lib\\site-packages\\sklearn\\svm\\_base.py:985: ConvergenceWarning: Liblinear failed to converge, increase the number of iterations.\n",
      "  warnings.warn(\"Liblinear failed to converge, increase \"\n",
      "C:\\Users\\User\\anaconda3\\lib\\site-packages\\sklearn\\svm\\_base.py:985: ConvergenceWarning: Liblinear failed to converge, increase the number of iterations.\n",
      "  warnings.warn(\"Liblinear failed to converge, increase \"\n",
      "C:\\Users\\User\\anaconda3\\lib\\site-packages\\sklearn\\svm\\_base.py:985: ConvergenceWarning: Liblinear failed to converge, increase the number of iterations.\n",
      "  warnings.warn(\"Liblinear failed to converge, increase \"\n",
      "C:\\Users\\User\\anaconda3\\lib\\site-packages\\sklearn\\svm\\_base.py:985: ConvergenceWarning: Liblinear failed to converge, increase the number of iterations.\n",
      "  warnings.warn(\"Liblinear failed to converge, increase \"\n",
      "C:\\Users\\User\\anaconda3\\lib\\site-packages\\sklearn\\svm\\_base.py:985: ConvergenceWarning: Liblinear failed to converge, increase the number of iterations.\n",
      "  warnings.warn(\"Liblinear failed to converge, increase \"\n",
      "C:\\Users\\User\\anaconda3\\lib\\site-packages\\sklearn\\svm\\_base.py:985: ConvergenceWarning: Liblinear failed to converge, increase the number of iterations.\n",
      "  warnings.warn(\"Liblinear failed to converge, increase \"\n",
      "C:\\Users\\User\\anaconda3\\lib\\site-packages\\sklearn\\svm\\_base.py:985: ConvergenceWarning: Liblinear failed to converge, increase the number of iterations.\n",
      "  warnings.warn(\"Liblinear failed to converge, increase \"\n",
      "C:\\Users\\User\\anaconda3\\lib\\site-packages\\sklearn\\svm\\_base.py:985: ConvergenceWarning: Liblinear failed to converge, increase the number of iterations.\n",
      "  warnings.warn(\"Liblinear failed to converge, increase \"\n",
      "C:\\Users\\User\\anaconda3\\lib\\site-packages\\sklearn\\svm\\_base.py:985: ConvergenceWarning: Liblinear failed to converge, increase the number of iterations.\n",
      "  warnings.warn(\"Liblinear failed to converge, increase \"\n",
      "C:\\Users\\User\\anaconda3\\lib\\site-packages\\sklearn\\svm\\_base.py:985: ConvergenceWarning: Liblinear failed to converge, increase the number of iterations.\n",
      "  warnings.warn(\"Liblinear failed to converge, increase \"\n",
      "C:\\Users\\User\\anaconda3\\lib\\site-packages\\sklearn\\svm\\_base.py:985: ConvergenceWarning: Liblinear failed to converge, increase the number of iterations.\n",
      "  warnings.warn(\"Liblinear failed to converge, increase \"\n",
      "C:\\Users\\User\\anaconda3\\lib\\site-packages\\sklearn\\svm\\_base.py:985: ConvergenceWarning: Liblinear failed to converge, increase the number of iterations.\n",
      "  warnings.warn(\"Liblinear failed to converge, increase \"\n",
      "C:\\Users\\User\\anaconda3\\lib\\site-packages\\sklearn\\svm\\_base.py:985: ConvergenceWarning: Liblinear failed to converge, increase the number of iterations.\n",
      "  warnings.warn(\"Liblinear failed to converge, increase \"\n",
      "C:\\Users\\User\\anaconda3\\lib\\site-packages\\sklearn\\svm\\_base.py:985: ConvergenceWarning: Liblinear failed to converge, increase the number of iterations.\n",
      "  warnings.warn(\"Liblinear failed to converge, increase \"\n",
      "C:\\Users\\User\\anaconda3\\lib\\site-packages\\sklearn\\svm\\_base.py:985: ConvergenceWarning: Liblinear failed to converge, increase the number of iterations.\n",
      "  warnings.warn(\"Liblinear failed to converge, increase \"\n",
      "C:\\Users\\User\\anaconda3\\lib\\site-packages\\sklearn\\svm\\_base.py:985: ConvergenceWarning: Liblinear failed to converge, increase the number of iterations.\n",
      "  warnings.warn(\"Liblinear failed to converge, increase \"\n",
      "C:\\Users\\User\\anaconda3\\lib\\site-packages\\sklearn\\svm\\_base.py:985: ConvergenceWarning: Liblinear failed to converge, increase the number of iterations.\n",
      "  warnings.warn(\"Liblinear failed to converge, increase \"\n",
      "C:\\Users\\User\\anaconda3\\lib\\site-packages\\sklearn\\svm\\_base.py:985: ConvergenceWarning: Liblinear failed to converge, increase the number of iterations.\n",
      "  warnings.warn(\"Liblinear failed to converge, increase \"\n",
      "C:\\Users\\User\\anaconda3\\lib\\site-packages\\sklearn\\svm\\_base.py:985: ConvergenceWarning: Liblinear failed to converge, increase the number of iterations.\n",
      "  warnings.warn(\"Liblinear failed to converge, increase \"\n",
      "C:\\Users\\User\\anaconda3\\lib\\site-packages\\sklearn\\svm\\_base.py:985: ConvergenceWarning: Liblinear failed to converge, increase the number of iterations.\n",
      "  warnings.warn(\"Liblinear failed to converge, increase \"\n",
      "C:\\Users\\User\\anaconda3\\lib\\site-packages\\sklearn\\svm\\_base.py:985: ConvergenceWarning: Liblinear failed to converge, increase the number of iterations.\n",
      "  warnings.warn(\"Liblinear failed to converge, increase \"\n",
      "C:\\Users\\User\\anaconda3\\lib\\site-packages\\sklearn\\svm\\_base.py:985: ConvergenceWarning: Liblinear failed to converge, increase the number of iterations.\n",
      "  warnings.warn(\"Liblinear failed to converge, increase \"\n",
      "C:\\Users\\User\\anaconda3\\lib\\site-packages\\sklearn\\svm\\_base.py:985: ConvergenceWarning: Liblinear failed to converge, increase the number of iterations.\n",
      "  warnings.warn(\"Liblinear failed to converge, increase \"\n"
     ]
    },
    {
     "name": "stderr",
     "output_type": "stream",
     "text": [
      "C:\\Users\\User\\anaconda3\\lib\\site-packages\\sklearn\\svm\\_base.py:985: ConvergenceWarning: Liblinear failed to converge, increase the number of iterations.\n",
      "  warnings.warn(\"Liblinear failed to converge, increase \"\n",
      "C:\\Users\\User\\anaconda3\\lib\\site-packages\\sklearn\\svm\\_base.py:985: ConvergenceWarning: Liblinear failed to converge, increase the number of iterations.\n",
      "  warnings.warn(\"Liblinear failed to converge, increase \"\n",
      "C:\\Users\\User\\anaconda3\\lib\\site-packages\\sklearn\\svm\\_base.py:985: ConvergenceWarning: Liblinear failed to converge, increase the number of iterations.\n",
      "  warnings.warn(\"Liblinear failed to converge, increase \"\n",
      "C:\\Users\\User\\anaconda3\\lib\\site-packages\\sklearn\\svm\\_base.py:985: ConvergenceWarning: Liblinear failed to converge, increase the number of iterations.\n",
      "  warnings.warn(\"Liblinear failed to converge, increase \"\n",
      "C:\\Users\\User\\anaconda3\\lib\\site-packages\\sklearn\\svm\\_base.py:985: ConvergenceWarning: Liblinear failed to converge, increase the number of iterations.\n",
      "  warnings.warn(\"Liblinear failed to converge, increase \"\n",
      "C:\\Users\\User\\anaconda3\\lib\\site-packages\\sklearn\\svm\\_base.py:985: ConvergenceWarning: Liblinear failed to converge, increase the number of iterations.\n",
      "  warnings.warn(\"Liblinear failed to converge, increase \"\n",
      "C:\\Users\\User\\anaconda3\\lib\\site-packages\\sklearn\\svm\\_base.py:985: ConvergenceWarning: Liblinear failed to converge, increase the number of iterations.\n",
      "  warnings.warn(\"Liblinear failed to converge, increase \"\n",
      "C:\\Users\\User\\anaconda3\\lib\\site-packages\\sklearn\\svm\\_base.py:985: ConvergenceWarning: Liblinear failed to converge, increase the number of iterations.\n",
      "  warnings.warn(\"Liblinear failed to converge, increase \"\n",
      "C:\\Users\\User\\anaconda3\\lib\\site-packages\\sklearn\\svm\\_base.py:985: ConvergenceWarning: Liblinear failed to converge, increase the number of iterations.\n",
      "  warnings.warn(\"Liblinear failed to converge, increase \"\n",
      "C:\\Users\\User\\anaconda3\\lib\\site-packages\\sklearn\\svm\\_base.py:985: ConvergenceWarning: Liblinear failed to converge, increase the number of iterations.\n",
      "  warnings.warn(\"Liblinear failed to converge, increase \"\n",
      "C:\\Users\\User\\anaconda3\\lib\\site-packages\\sklearn\\svm\\_base.py:985: ConvergenceWarning: Liblinear failed to converge, increase the number of iterations.\n",
      "  warnings.warn(\"Liblinear failed to converge, increase \"\n",
      "C:\\Users\\User\\anaconda3\\lib\\site-packages\\sklearn\\svm\\_base.py:985: ConvergenceWarning: Liblinear failed to converge, increase the number of iterations.\n",
      "  warnings.warn(\"Liblinear failed to converge, increase \"\n",
      "C:\\Users\\User\\anaconda3\\lib\\site-packages\\sklearn\\svm\\_base.py:985: ConvergenceWarning: Liblinear failed to converge, increase the number of iterations.\n",
      "  warnings.warn(\"Liblinear failed to converge, increase \"\n",
      "C:\\Users\\User\\anaconda3\\lib\\site-packages\\sklearn\\svm\\_base.py:985: ConvergenceWarning: Liblinear failed to converge, increase the number of iterations.\n",
      "  warnings.warn(\"Liblinear failed to converge, increase \"\n",
      "C:\\Users\\User\\anaconda3\\lib\\site-packages\\sklearn\\svm\\_base.py:985: ConvergenceWarning: Liblinear failed to converge, increase the number of iterations.\n",
      "  warnings.warn(\"Liblinear failed to converge, increase \"\n",
      "C:\\Users\\User\\anaconda3\\lib\\site-packages\\sklearn\\svm\\_base.py:985: ConvergenceWarning: Liblinear failed to converge, increase the number of iterations.\n",
      "  warnings.warn(\"Liblinear failed to converge, increase \"\n",
      "C:\\Users\\User\\anaconda3\\lib\\site-packages\\sklearn\\svm\\_base.py:985: ConvergenceWarning: Liblinear failed to converge, increase the number of iterations.\n",
      "  warnings.warn(\"Liblinear failed to converge, increase \"\n",
      "C:\\Users\\User\\anaconda3\\lib\\site-packages\\sklearn\\svm\\_base.py:985: ConvergenceWarning: Liblinear failed to converge, increase the number of iterations.\n",
      "  warnings.warn(\"Liblinear failed to converge, increase \"\n",
      "C:\\Users\\User\\anaconda3\\lib\\site-packages\\sklearn\\svm\\_base.py:985: ConvergenceWarning: Liblinear failed to converge, increase the number of iterations.\n",
      "  warnings.warn(\"Liblinear failed to converge, increase \"\n",
      "C:\\Users\\User\\anaconda3\\lib\\site-packages\\sklearn\\svm\\_base.py:985: ConvergenceWarning: Liblinear failed to converge, increase the number of iterations.\n",
      "  warnings.warn(\"Liblinear failed to converge, increase \"\n",
      "C:\\Users\\User\\anaconda3\\lib\\site-packages\\sklearn\\svm\\_base.py:985: ConvergenceWarning: Liblinear failed to converge, increase the number of iterations.\n",
      "  warnings.warn(\"Liblinear failed to converge, increase \"\n",
      "C:\\Users\\User\\anaconda3\\lib\\site-packages\\sklearn\\svm\\_base.py:985: ConvergenceWarning: Liblinear failed to converge, increase the number of iterations.\n",
      "  warnings.warn(\"Liblinear failed to converge, increase \"\n",
      "C:\\Users\\User\\anaconda3\\lib\\site-packages\\numpy\\core\\_methods.py:261: RuntimeWarning: Degrees of freedom <= 0 for slice\n",
      "  ret = _var(a, axis=axis, dtype=dtype, out=out, ddof=ddof,\n",
      "C:\\Users\\User\\anaconda3\\lib\\site-packages\\numpy\\core\\_methods.py:253: RuntimeWarning: invalid value encountered in double_scalars\n",
      "  ret = ret.dtype.type(ret / rcount)\n"
     ]
    },
    {
     "data": {
      "image/png": "[encoded data removed]",
      "text/plain": [
       "<Figure size 432x288 with 1 Axes>"
      ]
     },
     "metadata": {
      "needs_background": "light"
     },
     "output_type": "display_data"
    },
    {
     "name": "stdout",
     "output_type": "stream",
     "text": [
      "\n",
      "                                           feature_idx             cv_scores  \\\n",
      "15  (0, 1, 2, 3, 4, 5, 6, 7, 8, 9, 10, 11, 12, 13,...  [0.9689402935952911]   \n",
      "14    (0, 1, 2, 3, 4, 5, 6, 7, 8, 10, 11, 12, 13, 14)  [0.9691098308695342]   \n",
      "13       (0, 1, 2, 3, 4, 5, 6, 7, 10, 11, 12, 13, 14)  [0.9691070775607927]   \n",
      "12          (0, 1, 3, 4, 5, 6, 7, 10, 11, 12, 13, 14)  [0.9690728532087123]   \n",
      "11             (0, 1, 3, 5, 6, 7, 10, 11, 12, 13, 14)  [0.9690410322792119]   \n",
      "10                (0, 1, 5, 6, 7, 10, 11, 12, 13, 14)  [0.9690034828399942]   \n",
      "9                    (1, 5, 6, 7, 10, 11, 12, 13, 14)  [0.9689672704644967]   \n",
      "8                        (1, 5, 6, 7, 11, 12, 13, 14)  [0.9684770489462476]   \n",
      "7                           (1, 5, 7, 11, 12, 13, 14)  [0.9679777918579262]   \n",
      "6                              (1, 5, 11, 12, 13, 14)  [0.9666643864249611]   \n",
      "\n",
      "   avg_score                                      feature_names  \n",
      "15   0.96894  (overlap_title, temp_diff, comm_auth, overlap_...  \n",
      "14   0.96911  (overlap_title, temp_diff, comm_auth, overlap_...  \n",
      "13  0.969107  (overlap_title, temp_diff, comm_auth, overlap_...  \n",
      "12  0.969073  (overlap_title, temp_diff, overlap_journ, over...  \n",
      "11  0.969041  (overlap_title, temp_diff, overlap_journ, cos_...  \n",
      "10  0.969003  (overlap_title, temp_diff, cos_sim_abstr, cos_...  \n",
      "9   0.968967  (temp_diff, cos_sim_abstr, cos_sim_title, cos_...  \n",
      "8   0.968477  (temp_diff, cos_sim_abstr, cos_sim_title, cos_...  \n",
      "7   0.967978  (temp_diff, cos_sim_abstr, cos_sim_author, ada...  \n",
      "6   0.966664  (temp_diff, cos_sim_abstr, adam_index, com_nei...  \n",
      "\n",
      "Index of features :  (1, 5, 11, 12, 13, 14)\n",
      "\n",
      " 0.9666643864249611\n",
      "Wall time: 1h 55min 11s\n"
     ]
    }
   ],
   "source": [
    "%%time\n",
    "feature_names=fs(6,False)"
   ]
  },
  {
   "cell_type": "code",
   "execution_count": 12,
   "id": "5107be10",
   "metadata": {},
   "outputs": [
    {
     "data": {
      "text/plain": [
       "('temp_diff',\n",
       " 'cos_sim_abstr',\n",
       " 'adam_index',\n",
       " 'com_neigh',\n",
       " 'same_cluster',\n",
       " 'commun_ra')"
      ]
     },
     "execution_count": 12,
     "metadata": {},
     "output_type": "execute_result"
    }
   ],
   "source": [
    "feature_names"
   ]
  },
  {
   "cell_type": "markdown",
   "id": "9ab6ef79",
   "metadata": {},
   "source": [
    "<b> End up in 6 Features: </b>\n",
    "\n",
    "1) Temporal distance between the papers  \n",
    "2) Cosine similarity of adbstract    \n",
    "3) Adamic Adar Index   \n",
    "4) Common neighbours    \n",
    "5) Same Cluster (community)   \n",
    "6) Community resource allocation    "
   ]
  },
  {
   "cell_type": "code",
   "execution_count": 13,
   "id": "14689415",
   "metadata": {},
   "outputs": [],
   "source": [
    "# New train set with 6 optimal features\n",
    "train_fs=np.array([df['temp_diff'],df['cos_sim_abstr'],df['adam_index'],df['com_neigh'],df['same_cluster'],df['commun_ra']]).T"
   ]
  },
  {
   "cell_type": "raw",
   "id": "9092141f",
   "metadata": {},
   "source": [
    "# Save the new train csv with header for someone to be aware of the features.\n",
    "\n",
    "header=feature_names\n",
    "with open(\"fs_training_features_h.csv\",\"w\") as fs_feat:\n",
    "    csv_out = csv.writer(fs_feat)\n",
    "    csv_out.writerow(header)\n",
    "    for row in train_fs:\n",
    "        csv_out.writerow(row)"
   ]
  },
  {
   "cell_type": "code",
   "execution_count": 14,
   "id": "5826be6c",
   "metadata": {},
   "outputs": [],
   "source": [
    "# Save the new train csv\n",
    "\n",
    "with open(\"fs_training_features.csv\",\"w\") as fs_feat:\n",
    "    csv_out = csv.writer(fs_feat)    \n",
    "    for row in train_fs:\n",
    "        csv_out.writerow(row)"
   ]
  },
  {
   "cell_type": "code",
   "execution_count": 15,
   "id": "9be43bfc",
   "metadata": {},
   "outputs": [],
   "source": [
    "df=pd.DataFrame(testing_set,columns=['overlap_title','temp_diff','comm_auth', 'overlap_journ','overlap_abstr','cos_sim_abstr', 'cos_sim_title', 'cos_sim_author', 'cos_sim_journal','jac_sim', 'pref_attac', 'adam_index','com_neigh', 'same_cluster','commun_ra'])\n",
    "# New test set with 6 optimal features\n",
    "test_fs=np.array([df['temp_diff'],df['cos_sim_abstr'],df['adam_index'],df['com_neigh'],df['same_cluster'],df['commun_ra']]).T"
   ]
  },
  {
   "cell_type": "raw",
   "id": "4d34bb83",
   "metadata": {},
   "source": [
    "# Save the new test csv with header for someone to be aware of the features.\n",
    "\n",
    "header=feature_names \n",
    "with open(\"fs_testing_features_h.csv\",\"w\") as fs_feat:\n",
    "    csv_out = csv.writer(fs_feat)\n",
    "    csv_out.writerow(header)\n",
    "    for row in test_fs:\n",
    "        csv_out.writerow(row)"
   ]
  },
  {
   "cell_type": "code",
   "execution_count": 16,
   "id": "31cf043f",
   "metadata": {},
   "outputs": [],
   "source": [
    "# Save the new test csv\n",
    "\n",
    "with open(\"fs_testing_features.csv\",\"w\") as fs_feat:\n",
    "    csv_out = csv.writer(fs_feat)    \n",
    "    for row in test_fs:\n",
    "        csv_out.writerow(row)"
   ]
  },
  {
   "cell_type": "markdown",
   "id": "e41faf86",
   "metadata": {},
   "source": [
    "<b> Open new train and test set </b>"
   ]
  },
  {
   "cell_type": "code",
   "execution_count": 17,
   "id": "89ecfcbd",
   "metadata": {},
   "outputs": [],
   "source": [
    "#Training Data\n",
    "training_set = genfromtxt('fs_training_features.csv', delimiter=',')"
   ]
  },
  {
   "cell_type": "code",
   "execution_count": 18,
   "id": "539b21e1",
   "metadata": {},
   "outputs": [],
   "source": [
    "#Testing Data\n",
    "testing_set = genfromtxt('fs_testing_features.csv', delimiter=',')"
   ]
  },
  {
   "cell_type": "markdown",
   "id": "3ae8b321",
   "metadata": {},
   "source": [
    "# Algorithms  \n",
    "\n",
    "- SVM  \n",
    "- KNN  \n",
    "- Decision Trees  \n",
    "- Radom Forest Classifier  \n",
    "- AdaBoost\n",
    "- Bagging Classifier\n",
    "- Gradient Boosting Classifier\n",
    "- Gausian NB\n",
    "- Linear Discriminant Analysis\n",
    "- MLP Classifier\n"
   ]
  },
  {
   "cell_type": "markdown",
   "id": "cd1c72b7",
   "metadata": {},
   "source": [
    "From the above algorithms, 4 were excluded due to poor performance (comparing with the others).\n",
    "This decision was made on the sampling datasets so as to decrease the run time when the whole dataset was going to be used. The excluded algorithms are LinearDiscriminantAnalysis, DecisionTreeClassifier, GaussianNB and BaggingClassifier."
   ]
  },
  {
   "cell_type": "code",
   "execution_count": 19,
   "id": "52792c0e",
   "metadata": {},
   "outputs": [],
   "source": [
    "#name the models\n",
    "l_models =[\"SVM\", \"KNN\", \"RFC\", \"ADAB\", \"GBC\", \"MLP\"] # \"DT\", \"BC\", \"GNB\", \"LDA\""
   ]
  },
  {
   "cell_type": "code",
   "execution_count": 20,
   "id": "e76d0265",
   "metadata": {},
   "outputs": [],
   "source": [
    "#Create a function to train each model\n",
    "def TrainTestClassifier(C):\n",
    "    \n",
    "    if C == \"SVM\":\n",
    "        classifier = svm.LinearSVC() #Create an SVM model\n",
    "    elif C == \"KNN\":\n",
    "        classifier = KNeighborsClassifier(3) #Create an KNN model\n",
    "#     elif C == \"DT\":\n",
    "#         classifier = DecisionTreeClassifier() #Create a Decision Tree Classifier    \n",
    "    elif C == \"RFC\":\n",
    "        classifier = RandomForestClassifier() #Create a Random Forest\n",
    "\n",
    "    elif C == \"ADAB\":\n",
    "        classifier = AdaBoostClassifier() #Create a Bagging Classifier\n",
    "#     elif C == \"BC\":\n",
    "#         classifier = BaggingClassifier() #Create a Bagging Classifier\n",
    "    elif C == \"GBC\":\n",
    "        classifier = GradientBoostingClassifier() #Create a Gradient Boosting Classifier\n",
    "#     elif C == \"GNB\":\n",
    "#         classifier = GaussianNB() #Create a GaussianNB\n",
    "#     elif C == \"LDA\":\n",
    "#         classifier = LinearDiscriminantAnalysis() #Create a Linear Discriminant Analysis   \n",
    "    elif C == \"MLP\":\n",
    "        classifier = MLPClassifier()  #Create a MLPC lassifier\n",
    "   \n",
    "\n",
    "\n",
    "    classifier.fit(training_set, labels) #Train the model selected\n",
    "    predictions = classifier.predict(testing_set) # Perform predictions\n",
    "    \n",
    "    # Scores\n",
    "    f1_sc = f1_score(y_true = sol, y_pred = predictions) # Compare prediction with actula values\n",
    "    accuracy = accuracy_score(y_true = sol, y_pred = predictions)\n",
    "    logloss = log_loss(y_true = sol, y_pred = predictions)\n",
    "\n",
    "    return [C, f1_sc, accuracy, logloss]  \n"
   ]
  },
  {
   "cell_type": "code",
   "execution_count": 21,
   "id": "310e7d29",
   "metadata": {
    "scrolled": true
   },
   "outputs": [
    {
     "name": "stderr",
     "output_type": "stream",
     "text": [
      "C:\\Users\\User\\anaconda3\\lib\\site-packages\\sklearn\\svm\\_base.py:985: ConvergenceWarning: Liblinear failed to converge, increase the number of iterations.\n",
      "  warnings.warn(\"Liblinear failed to converge, increase \"\n"
     ]
    },
    {
     "name": "stdout",
     "output_type": "stream",
     "text": [
      "Wall time: 7min 29s\n"
     ]
    }
   ],
   "source": [
    "%%time\n",
    "RESULTS = []\n",
    "for model in l_models:\n",
    "    RESULTS.append(TrainTestClassifier(model))"
   ]
  },
  {
   "cell_type": "code",
   "execution_count": 22,
   "id": "7567debe",
   "metadata": {
    "scrolled": true
   },
   "outputs": [
    {
     "data": {
      "text/html": [
       "<div>\n",
       "<style scoped>\n",
       "    .dataframe tbody tr th:only-of-type {\n",
       "        vertical-align: middle;\n",
       "    }\n",
       "\n",
       "    .dataframe tbody tr th {\n",
       "        vertical-align: top;\n",
       "    }\n",
       "\n",
       "    .dataframe thead th {\n",
       "        text-align: right;\n",
       "    }\n",
       "</style>\n",
       "<table border=\"1\" class=\"dataframe\">\n",
       "  <thead>\n",
       "    <tr style=\"text-align: right;\">\n",
       "      <th></th>\n",
       "      <th>Classifier</th>\n",
       "      <th>F1 Score</th>\n",
       "      <th>Accuracy</th>\n",
       "      <th>LogLos</th>\n",
       "    </tr>\n",
       "  </thead>\n",
       "  <tbody>\n",
       "    <tr>\n",
       "      <th>0</th>\n",
       "      <td>SVM</td>\n",
       "      <td>0.962613</td>\n",
       "      <td>0.960518</td>\n",
       "      <td>1.363657</td>\n",
       "    </tr>\n",
       "    <tr>\n",
       "      <th>1</th>\n",
       "      <td>KNN</td>\n",
       "      <td>0.969790</td>\n",
       "      <td>0.967563</td>\n",
       "      <td>1.120341</td>\n",
       "    </tr>\n",
       "    <tr>\n",
       "      <th>2</th>\n",
       "      <td>RFC</td>\n",
       "      <td>0.964262</td>\n",
       "      <td>0.961376</td>\n",
       "      <td>1.334045</td>\n",
       "    </tr>\n",
       "    <tr>\n",
       "      <th>3</th>\n",
       "      <td>ADAB</td>\n",
       "      <td>0.960477</td>\n",
       "      <td>0.958589</td>\n",
       "      <td>1.430303</td>\n",
       "    </tr>\n",
       "    <tr>\n",
       "      <th>4</th>\n",
       "      <td>GBC</td>\n",
       "      <td>0.973861</td>\n",
       "      <td>0.972066</td>\n",
       "      <td>0.964824</td>\n",
       "    </tr>\n",
       "    <tr>\n",
       "      <th>5</th>\n",
       "      <td>MLP</td>\n",
       "      <td>0.974011</td>\n",
       "      <td>0.972066</td>\n",
       "      <td>0.964826</td>\n",
       "    </tr>\n",
       "  </tbody>\n",
       "</table>\n",
       "</div>"
      ],
      "text/plain": [
       "  Classifier  F1 Score  Accuracy    LogLos\n",
       "0        SVM  0.962613  0.960518  1.363657\n",
       "1        KNN  0.969790  0.967563  1.120341\n",
       "2        RFC  0.964262  0.961376  1.334045\n",
       "3       ADAB  0.960477  0.958589  1.430303\n",
       "4        GBC  0.973861  0.972066  0.964824\n",
       "5        MLP  0.974011  0.972066  0.964826"
      ]
     },
     "metadata": {},
     "output_type": "display_data"
    }
   ],
   "source": [
    "df_results = pd.DataFrame(RESULTS, columns=[\"Classifier\", 'F1 Score', 'Accuracy', 'LogLos'])\n",
    "display(df_results)\n"
   ]
  },
  {
   "cell_type": "markdown",
   "id": "20c41439",
   "metadata": {},
   "source": [
    "# Graphs"
   ]
  },
  {
   "cell_type": "code",
   "execution_count": 23,
   "id": "22f010a9",
   "metadata": {},
   "outputs": [
    {
     "data": {
      "image/png": "[encoded data removed]",
      "text/plain": [
       "<Figure size 432x288 with 1 Axes>"
      ]
     },
     "metadata": {
      "needs_background": "light"
     },
     "output_type": "display_data"
    },
    {
     "data": {
      "image/png": "[encoded data removed]",
      "text/plain": [
       "<Figure size 432x288 with 1 Axes>"
      ]
     },
     "metadata": {
      "needs_background": "light"
     },
     "output_type": "display_data"
    },
    {
     "data": {
      "image/png": "[encoded data removed]",
      "text/plain": [
       "<Figure size 432x288 with 1 Axes>"
      ]
     },
     "metadata": {
      "needs_background": "light"
     },
     "output_type": "display_data"
    }
   ],
   "source": [
    "sns.set_color_codes(\"muted\")\n",
    "\n",
    "sns.barplot(x='F1 Score', y='Classifier', data=df_results, color=\"b\")\n",
    "\n",
    "plt.xlabel('F1 Score')\n",
    "plt.title('Classifier Accuracy')\n",
    "plt.show()\n",
    "\n",
    "sns.barplot(x='Accuracy', y='Classifier', data=df_results, color=\"b\")\n",
    "\n",
    "plt.xlabel('Accuracy')\n",
    "plt.title('Classifier Accuracy')\n",
    "plt.show()\n",
    "\n",
    "sns.set_color_codes(\"muted\")\n",
    "sns.barplot(x='LogLos', y='Classifier', data=df_results, color=\"g\")\n",
    "\n",
    "plt.xlabel('Log Loss')\n",
    "plt.title('Classifier Log Loss')\n",
    "plt.show()"
   ]
  },
  {
   "cell_type": "markdown",
   "id": "1b318ba8",
   "metadata": {},
   "source": [
    "<b> Try different parameters on classifiers </b>"
   ]
  },
  {
   "cell_type": "raw",
   "id": "9648d5a5",
   "metadata": {},
   "source": [
    "Comparing the classifiers with each other, the following classifiers are chosen due to better performance: RFC, ADAB, GBC, MLP"
   ]
  },
  {
   "cell_type": "markdown",
   "id": "7f2d4bca",
   "metadata": {},
   "source": [
    "The base_estimator of the AdaBoostClassifier was experimented with Support Vector Classifier and a Voting Classifier (with Decision Tree and Support Vector) on sampling. The results were worse and the execution time was highly increased. So this method is just being stated and will not be included here."
   ]
  },
  {
   "cell_type": "code",
   "execution_count": 24,
   "id": "72e76918",
   "metadata": {},
   "outputs": [],
   "source": [
    "# from sklearn.svm import SVC\n",
    "# svc=SVC(probability=True, kernel='linear')\n",
    "# classifier = AdaBoostClassifier(base_estimator=svc)"
   ]
  },
  {
   "cell_type": "code",
   "execution_count": 25,
   "id": "4e9ed77e",
   "metadata": {},
   "outputs": [],
   "source": [
    "# from sklearn.ensemble import VotingClassifier\n",
    "# votingClf = VotingClassifier([('clf1',SVC(probability=True)),('clf2',DecisionTreeClassifier())],voting='soft')\n",
    "# classifier = AdaBoostClassifier(base_estimator=votingClf)"
   ]
  },
  {
   "cell_type": "code",
   "execution_count": 26,
   "id": "a64d1385",
   "metadata": {},
   "outputs": [],
   "source": [
    "#name the models\n",
    "l_models =[\"RFC\", \"ADAB\",  \"GBC\",  \"MLP\"]\n",
    "\n",
    "#Create a function to train each model\n",
    "def ImprovedClassifiers(C):\n",
    "    \n",
    "    if C == \"RFC\":\n",
    "        classifier = RandomForestClassifier(n_jobs=1, n_estimators=700, criterion=\"entropy\", min_samples_split=10,\n",
    "                                            min_samples_leaf=2, max_features=\"sqrt\", max_depth=10) \n",
    "    elif C == \"ADAB\":\n",
    "        classifier = AdaBoostClassifier(n_estimators=5,  random_state=42,\n",
    "                                        base_estimator=RandomForestClassifier(max_depth=6, random_state=42)) \n",
    "    elif C == \"GBC\":\n",
    "        classifier = GradientBoostingClassifier(loss='exponential',min_samples_split=50,max_depth=5) \n",
    "    elif C == \"MLP\":\n",
    "        classifier = MLPClassifier(hidden_layer_sizes=(250,100,50), max_iter=100,activation = 'relu',solver='adam',\n",
    "                                   random_state=1)   \n",
    "\n",
    "\n",
    "    classifier.fit(training_set, labels) #Train the model selected\n",
    "    predictions = classifier.predict(testing_set) # Perform predictions\n",
    "    \n",
    "    # Scores\n",
    "    f1_sc = f1_score(y_true = sol, y_pred = predictions) # Compare prediction with actula values\n",
    "    accuracy = accuracy_score(y_true = sol, y_pred = predictions)\n",
    "    logloss = log_loss(y_true = sol, y_pred = predictions)\n",
    "\n",
    "    return [C, f1_sc, accuracy, logloss]  "
   ]
  },
  {
   "cell_type": "code",
   "execution_count": 27,
   "id": "80b954ce",
   "metadata": {},
   "outputs": [
    {
     "data": {
      "text/html": [
       "<div>\n",
       "<style scoped>\n",
       "    .dataframe tbody tr th:only-of-type {\n",
       "        vertical-align: middle;\n",
       "    }\n",
       "\n",
       "    .dataframe tbody tr th {\n",
       "        vertical-align: top;\n",
       "    }\n",
       "\n",
       "    .dataframe thead th {\n",
       "        text-align: right;\n",
       "    }\n",
       "</style>\n",
       "<table border=\"1\" class=\"dataframe\">\n",
       "  <thead>\n",
       "    <tr style=\"text-align: right;\">\n",
       "      <th></th>\n",
       "      <th>Classifier</th>\n",
       "      <th>F1 Score</th>\n",
       "      <th>Accuracy</th>\n",
       "      <th>LogLos</th>\n",
       "    </tr>\n",
       "  </thead>\n",
       "  <tbody>\n",
       "    <tr>\n",
       "      <th>0</th>\n",
       "      <td>RFC</td>\n",
       "      <td>0.974645</td>\n",
       "      <td>0.972831</td>\n",
       "      <td>0.938377</td>\n",
       "    </tr>\n",
       "    <tr>\n",
       "      <th>1</th>\n",
       "      <td>ADAB</td>\n",
       "      <td>0.974670</td>\n",
       "      <td>0.972862</td>\n",
       "      <td>0.937319</td>\n",
       "    </tr>\n",
       "    <tr>\n",
       "      <th>2</th>\n",
       "      <td>GBC</td>\n",
       "      <td>0.973412</td>\n",
       "      <td>0.971637</td>\n",
       "      <td>0.979634</td>\n",
       "    </tr>\n",
       "    <tr>\n",
       "      <th>3</th>\n",
       "      <td>MLP</td>\n",
       "      <td>0.974406</td>\n",
       "      <td>0.972586</td>\n",
       "      <td>0.946840</td>\n",
       "    </tr>\n",
       "  </tbody>\n",
       "</table>\n",
       "</div>"
      ],
      "text/plain": [
       "  Classifier  F1 Score  Accuracy    LogLos\n",
       "0        RFC  0.974645  0.972831  0.938377\n",
       "1       ADAB  0.974670  0.972862  0.937319\n",
       "2        GBC  0.973412  0.971637  0.979634\n",
       "3        MLP  0.974406  0.972586  0.946840"
      ]
     },
     "metadata": {},
     "output_type": "display_data"
    },
    {
     "name": "stdout",
     "output_type": "stream",
     "text": [
      "Wall time: 31min 12s\n"
     ]
    }
   ],
   "source": [
    "%%time\n",
    "RESULTS = []\n",
    "for model in l_models:\n",
    "    RESULTS.append(ImprovedClassifiers(model))\n",
    "df_results = pd.DataFrame(RESULTS, columns=[\"Classifier\", 'F1 Score', 'Accuracy', 'LogLos'])\n",
    "display(df_results)    "
   ]
  },
  {
   "cell_type": "markdown",
   "id": "990f601f",
   "metadata": {},
   "source": [
    "## Graphs"
   ]
  },
  {
   "cell_type": "code",
   "execution_count": 28,
   "id": "109eb341",
   "metadata": {
    "scrolled": true
   },
   "outputs": [
    {
     "data": {
      "image/png": "[encoded data removed]",
      "text/plain": [
       "<Figure size 432x288 with 1 Axes>"
      ]
     },
     "metadata": {
      "needs_background": "light"
     },
     "output_type": "display_data"
    },
    {
     "data": {
      "image/png": "[encoded data removed]",
      "text/plain": [
       "<Figure size 432x288 with 1 Axes>"
      ]
     },
     "metadata": {
      "needs_background": "light"
     },
     "output_type": "display_data"
    },
    {
     "data": {
      "image/png": "[encoded data removed]",
      "text/plain": [
       "<Figure size 432x288 with 1 Axes>"
      ]
     },
     "metadata": {
      "needs_background": "light"
     },
     "output_type": "display_data"
    }
   ],
   "source": [
    "sns.set_color_codes(\"muted\")\n",
    "\n",
    "sns.barplot(x='F1 Score', y='Classifier', data=df_results, color=\"b\")\n",
    "\n",
    "plt.xlabel('F1 Score ')\n",
    "plt.title('Classifier F1 Score')\n",
    "plt.show()\n",
    "\n",
    "sns.barplot(x='Accuracy', y='Classifier', data=df_results, color=\"r\")\n",
    "\n",
    "plt.xlabel('Accuracy ')\n",
    "plt.title('Classifier Accuracy')\n",
    "plt.show()\n",
    "\n",
    "sns.set_color_codes(\"muted\")\n",
    "sns.barplot(x='LogLos', y='Classifier', data=df_results, color=\"g\")\n",
    "\n",
    "plt.xlabel('Log Loss')\n",
    "plt.title('Classifier Log Loss')\n",
    "plt.show()"
   ]
  },
  {
   "cell_type": "markdown",
   "id": "e1197ea4",
   "metadata": {},
   "source": [
    "<b>Further thoughs</b>"
   ]
  },
  {
   "cell_type": "markdown",
   "id": "240d19bd",
   "metadata": {},
   "source": [
    "RFC and ADAB have improved results, while GBC and MLP have similar ones. For this phase a lot of parameters were tested so as to conclude to the above results. One could try further experimenting with the parameters for all the classifiers to see if they improve or if they get better results from the ones that we had considered as optimal ones. Also, combining the classifiers or applying a pipeline with grid search, might be something that could give better results. Moreover, including more features in the training phase could be useful, due to the fact that the feature selection may provide with different results. \n",
    "\n",
    "While running feature selection with the sampling dataset, the results showed that the optimal number of features were 6. This could happen with the whole dataset so as to see if the optimal number of features are still 6 (due to run time, this couldn't happen here)."
   ]
  }
 ],
 "metadata": {
  "kernelspec": {
   "display_name": "Python 3 (ipykernel)",
   "language": "python",
   "name": "python3"
  },
  "language_info": {
   "codemirror_mode": {
    "name": "ipython",
    "version": 3
   },
   "file_extension": ".py",
   "mimetype": "text/x-python",
   "name": "python",
   "nbconvert_exporter": "python",
   "pygments_lexer": "ipython3",
   "version": "3.9.7"
  }
 },
 "nbformat": 4,
 "nbformat_minor": 5
}
